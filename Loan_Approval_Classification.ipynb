{
  "metadata": {
    "kernelspec": {
      "language": "python",
      "display_name": "Python 3",
      "name": "python3"
    },
    "language_info": {
      "name": "python",
      "version": "3.10.12",
      "mimetype": "text/x-python",
      "codemirror_mode": {
        "name": "ipython",
        "version": 3
      },
      "pygments_lexer": "ipython3",
      "nbconvert_exporter": "python",
      "file_extension": ".py"
    },
    "kaggle": {
      "accelerator": "none",
      "dataSources": [
        {
          "sourceId": 9750039,
          "sourceType": "datasetVersion",
          "datasetId": 5969230
        }
      ],
      "dockerImageVersionId": 30886,
      "isInternetEnabled": false,
      "language": "python",
      "sourceType": "notebook",
      "isGpuEnabled": false
    },
    "colab": {
      "name": "Loan Approval Classification",
      "provenance": []
    }
  },
  "nbformat_minor": 0,
  "nbformat": 4,
  "cells": [
    {
      "source": [
        "\n",
        "import kagglehub\n",
        "taweilo_loan_approval_classification_data_path = kagglehub.dataset_download('taweilo/loan-approval-classification-data')\n",
        "\n",
        "print('Data source import complete.')\n"
      ],
      "metadata": {
        "id": "R_-0pg7c2a2S"
      },
      "cell_type": "code",
      "outputs": [],
      "execution_count": null
    },
    {
      "cell_type": "code",
      "source": [
        "import numpy as np\n",
        "import pandas as pd\n",
        "import seaborn as sns\n",
        "import matplotlib.pyplot as plt"
      ],
      "metadata": {
        "_uuid": "8f2839f25d086af736a60e9eeb907d3b93b6e0e5",
        "_cell_guid": "b1076dfc-b9ad-4769-8c92-a6c4dae69d19",
        "trusted": true,
        "execution": {
          "iopub.status.busy": "2025-02-27T21:38:50.480202Z",
          "iopub.execute_input": "2025-02-27T21:38:50.480507Z",
          "iopub.status.idle": "2025-02-27T21:38:50.485204Z",
          "shell.execute_reply.started": "2025-02-27T21:38:50.48048Z",
          "shell.execute_reply": "2025-02-27T21:38:50.484159Z"
        },
        "id": "rPW_Eigu2a2V"
      },
      "outputs": [],
      "execution_count": null
    },
    {
      "cell_type": "code",
      "source": [
        "data = pd.read_csv(\"/kaggle/input/loan-approval-classification-data/loan_data.csv\")"
      ],
      "metadata": {
        "trusted": true,
        "execution": {
          "iopub.status.busy": "2025-02-27T21:38:51.86598Z",
          "iopub.execute_input": "2025-02-27T21:38:51.866262Z",
          "iopub.status.idle": "2025-02-27T21:38:51.931506Z",
          "shell.execute_reply.started": "2025-02-27T21:38:51.866241Z",
          "shell.execute_reply": "2025-02-27T21:38:51.930023Z"
        },
        "id": "buTRM4Um2a2W"
      },
      "outputs": [],
      "execution_count": null
    },
    {
      "cell_type": "code",
      "source": [
        "data.head()"
      ],
      "metadata": {
        "trusted": true,
        "execution": {
          "iopub.status.busy": "2025-02-27T21:38:53.00155Z",
          "iopub.execute_input": "2025-02-27T21:38:53.002043Z",
          "iopub.status.idle": "2025-02-27T21:38:53.0174Z",
          "shell.execute_reply.started": "2025-02-27T21:38:53.002002Z",
          "shell.execute_reply": "2025-02-27T21:38:53.01543Z"
        },
        "id": "YPfkq9lR2a2X",
        "outputId": "28a1afee-d211-45d8-e0f4-0a5fe03e6f86"
      },
      "outputs": [
        {
          "execution_count": 63,
          "output_type": "execute_result",
          "data": {
            "text/plain": "   person_age person_gender person_education  person_income  person_emp_exp  \\\n0        22.0        female           Master        71948.0               0   \n1        21.0        female      High School        12282.0               0   \n2        25.0        female      High School        12438.0               3   \n3        23.0        female         Bachelor        79753.0               0   \n4        24.0          male           Master        66135.0               1   \n\n  person_home_ownership  loan_amnt loan_intent  loan_int_rate  \\\n0                  RENT    35000.0    PERSONAL          16.02   \n1                   OWN     1000.0   EDUCATION          11.14   \n2              MORTGAGE     5500.0     MEDICAL          12.87   \n3                  RENT    35000.0     MEDICAL          15.23   \n4                  RENT    35000.0     MEDICAL          14.27   \n\n   loan_percent_income  cb_person_cred_hist_length  credit_score  \\\n0                 0.49                         3.0           561   \n1                 0.08                         2.0           504   \n2                 0.44                         3.0           635   \n3                 0.44                         2.0           675   \n4                 0.53                         4.0           586   \n\n  previous_loan_defaults_on_file  loan_status  \n0                             No            1  \n1                            Yes            0  \n2                             No            1  \n3                             No            1  \n4                             No            1  ",
            "text/html": "<div>\n<style scoped>\n    .dataframe tbody tr th:only-of-type {\n        vertical-align: middle;\n    }\n\n    .dataframe tbody tr th {\n        vertical-align: top;\n    }\n\n    .dataframe thead th {\n        text-align: right;\n    }\n</style>\n<table border=\"1\" class=\"dataframe\">\n  <thead>\n    <tr style=\"text-align: right;\">\n      <th></th>\n      <th>person_age</th>\n      <th>person_gender</th>\n      <th>person_education</th>\n      <th>person_income</th>\n      <th>person_emp_exp</th>\n      <th>person_home_ownership</th>\n      <th>loan_amnt</th>\n      <th>loan_intent</th>\n      <th>loan_int_rate</th>\n      <th>loan_percent_income</th>\n      <th>cb_person_cred_hist_length</th>\n      <th>credit_score</th>\n      <th>previous_loan_defaults_on_file</th>\n      <th>loan_status</th>\n    </tr>\n  </thead>\n  <tbody>\n    <tr>\n      <th>0</th>\n      <td>22.0</td>\n      <td>female</td>\n      <td>Master</td>\n      <td>71948.0</td>\n      <td>0</td>\n      <td>RENT</td>\n      <td>35000.0</td>\n      <td>PERSONAL</td>\n      <td>16.02</td>\n      <td>0.49</td>\n      <td>3.0</td>\n      <td>561</td>\n      <td>No</td>\n      <td>1</td>\n    </tr>\n    <tr>\n      <th>1</th>\n      <td>21.0</td>\n      <td>female</td>\n      <td>High School</td>\n      <td>12282.0</td>\n      <td>0</td>\n      <td>OWN</td>\n      <td>1000.0</td>\n      <td>EDUCATION</td>\n      <td>11.14</td>\n      <td>0.08</td>\n      <td>2.0</td>\n      <td>504</td>\n      <td>Yes</td>\n      <td>0</td>\n    </tr>\n    <tr>\n      <th>2</th>\n      <td>25.0</td>\n      <td>female</td>\n      <td>High School</td>\n      <td>12438.0</td>\n      <td>3</td>\n      <td>MORTGAGE</td>\n      <td>5500.0</td>\n      <td>MEDICAL</td>\n      <td>12.87</td>\n      <td>0.44</td>\n      <td>3.0</td>\n      <td>635</td>\n      <td>No</td>\n      <td>1</td>\n    </tr>\n    <tr>\n      <th>3</th>\n      <td>23.0</td>\n      <td>female</td>\n      <td>Bachelor</td>\n      <td>79753.0</td>\n      <td>0</td>\n      <td>RENT</td>\n      <td>35000.0</td>\n      <td>MEDICAL</td>\n      <td>15.23</td>\n      <td>0.44</td>\n      <td>2.0</td>\n      <td>675</td>\n      <td>No</td>\n      <td>1</td>\n    </tr>\n    <tr>\n      <th>4</th>\n      <td>24.0</td>\n      <td>male</td>\n      <td>Master</td>\n      <td>66135.0</td>\n      <td>1</td>\n      <td>RENT</td>\n      <td>35000.0</td>\n      <td>MEDICAL</td>\n      <td>14.27</td>\n      <td>0.53</td>\n      <td>4.0</td>\n      <td>586</td>\n      <td>No</td>\n      <td>1</td>\n    </tr>\n  </tbody>\n</table>\n</div>"
          },
          "metadata": {}
        }
      ],
      "execution_count": null
    },
    {
      "cell_type": "code",
      "source": [
        "data.dtypes"
      ],
      "metadata": {
        "trusted": true,
        "execution": {
          "iopub.status.busy": "2025-02-27T21:38:54.432383Z",
          "iopub.execute_input": "2025-02-27T21:38:54.432824Z",
          "iopub.status.idle": "2025-02-27T21:38:54.441106Z",
          "shell.execute_reply.started": "2025-02-27T21:38:54.432787Z",
          "shell.execute_reply": "2025-02-27T21:38:54.44013Z"
        },
        "id": "-yi4JcXl2a2Y",
        "outputId": "2c665cbe-2771-4a39-b2d3-155a9a08e83b"
      },
      "outputs": [
        {
          "execution_count": 64,
          "output_type": "execute_result",
          "data": {
            "text/plain": "person_age                        float64\nperson_gender                      object\nperson_education                   object\nperson_income                     float64\nperson_emp_exp                      int64\nperson_home_ownership              object\nloan_amnt                         float64\nloan_intent                        object\nloan_int_rate                     float64\nloan_percent_income               float64\ncb_person_cred_hist_length        float64\ncredit_score                        int64\nprevious_loan_defaults_on_file     object\nloan_status                         int64\ndtype: object"
          },
          "metadata": {}
        }
      ],
      "execution_count": null
    },
    {
      "cell_type": "code",
      "source": [
        "data[\"person_gender\"] = (data[\"person_gender\"] == \"male\").astype(int)\n",
        "data.head()"
      ],
      "metadata": {
        "trusted": true,
        "execution": {
          "iopub.status.busy": "2025-02-27T21:38:58.251467Z",
          "iopub.execute_input": "2025-02-27T21:38:58.251923Z",
          "iopub.status.idle": "2025-02-27T21:38:58.270971Z",
          "shell.execute_reply.started": "2025-02-27T21:38:58.25189Z",
          "shell.execute_reply": "2025-02-27T21:38:58.268943Z"
        },
        "id": "b4uH2IFF2a2Y",
        "outputId": "47df9cb6-b88b-47f7-b438-43fe136319dc"
      },
      "outputs": [
        {
          "execution_count": 65,
          "output_type": "execute_result",
          "data": {
            "text/plain": "   person_age  person_gender person_education  person_income  person_emp_exp  \\\n0        22.0              0           Master        71948.0               0   \n1        21.0              0      High School        12282.0               0   \n2        25.0              0      High School        12438.0               3   \n3        23.0              0         Bachelor        79753.0               0   \n4        24.0              1           Master        66135.0               1   \n\n  person_home_ownership  loan_amnt loan_intent  loan_int_rate  \\\n0                  RENT    35000.0    PERSONAL          16.02   \n1                   OWN     1000.0   EDUCATION          11.14   \n2              MORTGAGE     5500.0     MEDICAL          12.87   \n3                  RENT    35000.0     MEDICAL          15.23   \n4                  RENT    35000.0     MEDICAL          14.27   \n\n   loan_percent_income  cb_person_cred_hist_length  credit_score  \\\n0                 0.49                         3.0           561   \n1                 0.08                         2.0           504   \n2                 0.44                         3.0           635   \n3                 0.44                         2.0           675   \n4                 0.53                         4.0           586   \n\n  previous_loan_defaults_on_file  loan_status  \n0                             No            1  \n1                            Yes            0  \n2                             No            1  \n3                             No            1  \n4                             No            1  ",
            "text/html": "<div>\n<style scoped>\n    .dataframe tbody tr th:only-of-type {\n        vertical-align: middle;\n    }\n\n    .dataframe tbody tr th {\n        vertical-align: top;\n    }\n\n    .dataframe thead th {\n        text-align: right;\n    }\n</style>\n<table border=\"1\" class=\"dataframe\">\n  <thead>\n    <tr style=\"text-align: right;\">\n      <th></th>\n      <th>person_age</th>\n      <th>person_gender</th>\n      <th>person_education</th>\n      <th>person_income</th>\n      <th>person_emp_exp</th>\n      <th>person_home_ownership</th>\n      <th>loan_amnt</th>\n      <th>loan_intent</th>\n      <th>loan_int_rate</th>\n      <th>loan_percent_income</th>\n      <th>cb_person_cred_hist_length</th>\n      <th>credit_score</th>\n      <th>previous_loan_defaults_on_file</th>\n      <th>loan_status</th>\n    </tr>\n  </thead>\n  <tbody>\n    <tr>\n      <th>0</th>\n      <td>22.0</td>\n      <td>0</td>\n      <td>Master</td>\n      <td>71948.0</td>\n      <td>0</td>\n      <td>RENT</td>\n      <td>35000.0</td>\n      <td>PERSONAL</td>\n      <td>16.02</td>\n      <td>0.49</td>\n      <td>3.0</td>\n      <td>561</td>\n      <td>No</td>\n      <td>1</td>\n    </tr>\n    <tr>\n      <th>1</th>\n      <td>21.0</td>\n      <td>0</td>\n      <td>High School</td>\n      <td>12282.0</td>\n      <td>0</td>\n      <td>OWN</td>\n      <td>1000.0</td>\n      <td>EDUCATION</td>\n      <td>11.14</td>\n      <td>0.08</td>\n      <td>2.0</td>\n      <td>504</td>\n      <td>Yes</td>\n      <td>0</td>\n    </tr>\n    <tr>\n      <th>2</th>\n      <td>25.0</td>\n      <td>0</td>\n      <td>High School</td>\n      <td>12438.0</td>\n      <td>3</td>\n      <td>MORTGAGE</td>\n      <td>5500.0</td>\n      <td>MEDICAL</td>\n      <td>12.87</td>\n      <td>0.44</td>\n      <td>3.0</td>\n      <td>635</td>\n      <td>No</td>\n      <td>1</td>\n    </tr>\n    <tr>\n      <th>3</th>\n      <td>23.0</td>\n      <td>0</td>\n      <td>Bachelor</td>\n      <td>79753.0</td>\n      <td>0</td>\n      <td>RENT</td>\n      <td>35000.0</td>\n      <td>MEDICAL</td>\n      <td>15.23</td>\n      <td>0.44</td>\n      <td>2.0</td>\n      <td>675</td>\n      <td>No</td>\n      <td>1</td>\n    </tr>\n    <tr>\n      <th>4</th>\n      <td>24.0</td>\n      <td>1</td>\n      <td>Master</td>\n      <td>66135.0</td>\n      <td>1</td>\n      <td>RENT</td>\n      <td>35000.0</td>\n      <td>MEDICAL</td>\n      <td>14.27</td>\n      <td>0.53</td>\n      <td>4.0</td>\n      <td>586</td>\n      <td>No</td>\n      <td>1</td>\n    </tr>\n  </tbody>\n</table>\n</div>"
          },
          "metadata": {}
        }
      ],
      "execution_count": null
    },
    {
      "cell_type": "code",
      "source": [
        "print(data[data.isnull().any(axis=1)])\n",
        "print(data.isnull().values.any())"
      ],
      "metadata": {
        "trusted": true,
        "execution": {
          "iopub.status.busy": "2025-02-27T21:39:00.063985Z",
          "iopub.execute_input": "2025-02-27T21:39:00.064273Z",
          "iopub.status.idle": "2025-02-27T21:39:00.085316Z",
          "shell.execute_reply.started": "2025-02-27T21:39:00.064252Z",
          "shell.execute_reply": "2025-02-27T21:39:00.084164Z"
        },
        "id": "_NF24_112a2Y",
        "outputId": "0ecb7b6c-55ae-42fe-8288-8deafd4a2f32"
      },
      "outputs": [
        {
          "name": "stdout",
          "text": "Empty DataFrame\nColumns: [person_age, person_gender, person_education, person_income, person_emp_exp, person_home_ownership, loan_amnt, loan_intent, loan_int_rate, loan_percent_income, cb_person_cred_hist_length, credit_score, previous_loan_defaults_on_file, loan_status]\nIndex: []\nFalse\n",
          "output_type": "stream"
        }
      ],
      "execution_count": null
    },
    {
      "cell_type": "code",
      "source": [
        "data['loan_status'].value_counts().plot(kind = 'bar')"
      ],
      "metadata": {
        "trusted": true,
        "execution": {
          "iopub.status.busy": "2025-02-27T21:39:01.905006Z",
          "iopub.execute_input": "2025-02-27T21:39:01.905384Z",
          "iopub.status.idle": "2025-02-27T21:39:02.053641Z",
          "shell.execute_reply.started": "2025-02-27T21:39:01.905351Z",
          "shell.execute_reply": "2025-02-27T21:39:02.052179Z"
        },
        "id": "T6uQ8uQU2a2Z",
        "outputId": "603aa42b-f6ee-40ae-895e-0e1a3b3f1c41"
      },
      "outputs": [
        {
          "execution_count": 67,
          "output_type": "execute_result",
          "data": {
            "text/plain": "<Axes: xlabel='loan_status'>"
          },
          "metadata": {}
        },
        {
          "output_type": "display_data",
          "data": {
            "text/plain": "<Figure size 640x480 with 1 Axes>",
            "image/png": "[encoded data removed]"
          },
          "metadata": {}
        }
      ],
      "execution_count": null
    },
    {
      "cell_type": "code",
      "source": [
        "import seaborn as sns\n",
        "import matplotlib.pyplot as plt\n",
        "from sklearn.model_selection import train_test_split\n",
        "from sklearn.ensemble import RandomForestClassifier\n",
        "from sklearn.metrics import accuracy_score, classification_report, confusion_matrix"
      ],
      "metadata": {
        "trusted": true,
        "execution": {
          "iopub.status.busy": "2025-02-27T21:39:03.657938Z",
          "iopub.execute_input": "2025-02-27T21:39:03.658403Z",
          "iopub.status.idle": "2025-02-27T21:39:03.663549Z",
          "shell.execute_reply.started": "2025-02-27T21:39:03.658362Z",
          "shell.execute_reply": "2025-02-27T21:39:03.662326Z"
        },
        "id": "sf0wUubg2a2Z"
      },
      "outputs": [],
      "execution_count": null
    },
    {
      "cell_type": "code",
      "source": [
        "categorical_cols = ['person_education', 'person_home_ownership', 'loan_intent', 'previous_loan_defaults_on_file']\n",
        "data_encoded = pd.get_dummies(data, columns=categorical_cols, drop_first=True)\n",
        "\n",
        "# Splitting\n",
        "X = data_encoded.drop(columns=['loan_status'])\n",
        "y = data_encoded['loan_status']  # Target"
      ],
      "metadata": {
        "trusted": true,
        "execution": {
          "iopub.status.busy": "2025-02-27T21:39:04.506053Z",
          "iopub.execute_input": "2025-02-27T21:39:04.506393Z",
          "iopub.status.idle": "2025-02-27T21:39:04.535305Z",
          "shell.execute_reply.started": "2025-02-27T21:39:04.506363Z",
          "shell.execute_reply": "2025-02-27T21:39:04.53295Z"
        },
        "id": "mpJc8P_I2a2Z"
      },
      "outputs": [],
      "execution_count": null
    },
    {
      "cell_type": "code",
      "source": [
        "X_train, X_test, y_train, y_test = train_test_split(X, y, test_size=0.2, random_state=42)"
      ],
      "metadata": {
        "trusted": true,
        "execution": {
          "iopub.status.busy": "2025-02-27T21:39:06.943405Z",
          "iopub.execute_input": "2025-02-27T21:39:06.943684Z",
          "iopub.status.idle": "2025-02-27T21:39:06.955821Z",
          "shell.execute_reply.started": "2025-02-27T21:39:06.943661Z",
          "shell.execute_reply": "2025-02-27T21:39:06.954372Z"
        },
        "id": "jg9TERTZ2a2a"
      },
      "outputs": [],
      "execution_count": null
    },
    {
      "cell_type": "code",
      "source": [
        "rf = RandomForestClassifier(n_estimators=100, random_state=42)\n",
        "rf.fit(X_train, y_train)"
      ],
      "metadata": {
        "trusted": true,
        "execution": {
          "iopub.status.busy": "2025-02-27T21:39:08.433468Z",
          "iopub.execute_input": "2025-02-27T21:39:08.433926Z",
          "iopub.status.idle": "2025-02-27T21:39:11.585117Z",
          "shell.execute_reply.started": "2025-02-27T21:39:08.433897Z",
          "shell.execute_reply": "2025-02-27T21:39:11.583609Z"
        },
        "id": "eBi_3jMF2a2a",
        "outputId": "8ac67bec-c40a-4dd8-8c51-db878cf70db9"
      },
      "outputs": [
        {
          "execution_count": 71,
          "output_type": "execute_result",
          "data": {
            "text/plain": "RandomForestClassifier(random_state=42)",
            "text/html": "<style>#sk-container-id-5 {color: black;background-color: white;}#sk-container-id-5 pre{padding: 0;}#sk-container-id-5 div.sk-toggleable {background-color: white;}#sk-container-id-5 label.sk-toggleable__label {cursor: pointer;display: block;width: 100%;margin-bottom: 0;padding: 0.3em;box-sizing: border-box;text-align: center;}#sk-container-id-5 label.sk-toggleable__label-arrow:before {content: \"▸\";float: left;margin-right: 0.25em;color: #696969;}#sk-container-id-5 label.sk-toggleable__label-arrow:hover:before {color: black;}#sk-container-id-5 div.sk-estimator:hover label.sk-toggleable__label-arrow:before {color: black;}#sk-container-id-5 div.sk-toggleable__content {max-height: 0;max-width: 0;overflow: hidden;text-align: left;background-color: #f0f8ff;}#sk-container-id-5 div.sk-toggleable__content pre {margin: 0.2em;color: black;border-radius: 0.25em;background-color: #f0f8ff;}#sk-container-id-5 input.sk-toggleable__control:checked~div.sk-toggleable__content {max-height: 200px;max-width: 100%;overflow: auto;}#sk-container-id-5 input.sk-toggleable__control:checked~label.sk-toggleable__label-arrow:before {content: \"▾\";}#sk-container-id-5 div.sk-estimator input.sk-toggleable__control:checked~label.sk-toggleable__label {background-color: #d4ebff;}#sk-container-id-5 div.sk-label input.sk-toggleable__control:checked~label.sk-toggleable__label {background-color: #d4ebff;}#sk-container-id-5 input.sk-hidden--visually {border: 0;clip: rect(1px 1px 1px 1px);clip: rect(1px, 1px, 1px, 1px);height: 1px;margin: -1px;overflow: hidden;padding: 0;position: absolute;width: 1px;}#sk-container-id-5 div.sk-estimator {font-family: monospace;background-color: #f0f8ff;border: 1px dotted black;border-radius: 0.25em;box-sizing: border-box;margin-bottom: 0.5em;}#sk-container-id-5 div.sk-estimator:hover {background-color: #d4ebff;}#sk-container-id-5 div.sk-parallel-item::after {content: \"\";width: 100%;border-bottom: 1px solid gray;flex-grow: 1;}#sk-container-id-5 div.sk-label:hover label.sk-toggleable__label {background-color: #d4ebff;}#sk-container-id-5 div.sk-serial::before {content: \"\";position: absolute;border-left: 1px solid gray;box-sizing: border-box;top: 0;bottom: 0;left: 50%;z-index: 0;}#sk-container-id-5 div.sk-serial {display: flex;flex-direction: column;align-items: center;background-color: white;padding-right: 0.2em;padding-left: 0.2em;position: relative;}#sk-container-id-5 div.sk-item {position: relative;z-index: 1;}#sk-container-id-5 div.sk-parallel {display: flex;align-items: stretch;justify-content: center;background-color: white;position: relative;}#sk-container-id-5 div.sk-item::before, #sk-container-id-5 div.sk-parallel-item::before {content: \"\";position: absolute;border-left: 1px solid gray;box-sizing: border-box;top: 0;bottom: 0;left: 50%;z-index: -1;}#sk-container-id-5 div.sk-parallel-item {display: flex;flex-direction: column;z-index: 1;position: relative;background-color: white;}#sk-container-id-5 div.sk-parallel-item:first-child::after {align-self: flex-end;width: 50%;}#sk-container-id-5 div.sk-parallel-item:last-child::after {align-self: flex-start;width: 50%;}#sk-container-id-5 div.sk-parallel-item:only-child::after {width: 0;}#sk-container-id-5 div.sk-dashed-wrapped {border: 1px dashed gray;margin: 0 0.4em 0.5em 0.4em;box-sizing: border-box;padding-bottom: 0.4em;background-color: white;}#sk-container-id-5 div.sk-label label {font-family: monospace;font-weight: bold;display: inline-block;line-height: 1.2em;}#sk-container-id-5 div.sk-label-container {text-align: center;}#sk-container-id-5 div.sk-container {/* jupyter's `normalize.less` sets `[hidden] { display: none; }` but bootstrap.min.css set `[hidden] { display: none !important; }` so we also need the `!important` here to be able to override the default hidden behavior on the sphinx rendered scikit-learn.org. See: https://github.com/scikit-learn/scikit-learn/issues/21755 */display: inline-block !important;position: relative;}#sk-container-id-5 div.sk-text-repr-fallback {display: none;}</style><div id=\"sk-container-id-5\" class=\"sk-top-container\"><div class=\"sk-text-repr-fallback\"><pre>RandomForestClassifier(random_state=42)</pre><b>In a Jupyter environment, please rerun this cell to show the HTML representation or trust the notebook. <br />On GitHub, the HTML representation is unable to render, please try loading this page with nbviewer.org.</b></div><div class=\"sk-container\" hidden><div class=\"sk-item\"><div class=\"sk-estimator sk-toggleable\"><input class=\"sk-toggleable__control sk-hidden--visually\" id=\"sk-estimator-id-5\" type=\"checkbox\" checked><label for=\"sk-estimator-id-5\" class=\"sk-toggleable__label sk-toggleable__label-arrow\">RandomForestClassifier</label><div class=\"sk-toggleable__content\"><pre>RandomForestClassifier(random_state=42)</pre></div></div></div></div></div>"
          },
          "metadata": {}
        }
      ],
      "execution_count": null
    },
    {
      "cell_type": "code",
      "source": [
        "y_pred = rf.predict(X_test)"
      ],
      "metadata": {
        "trusted": true,
        "execution": {
          "iopub.status.busy": "2025-02-27T21:39:13.172255Z",
          "iopub.execute_input": "2025-02-27T21:39:13.172574Z",
          "iopub.status.idle": "2025-02-27T21:39:13.298926Z",
          "shell.execute_reply.started": "2025-02-27T21:39:13.172527Z",
          "shell.execute_reply": "2025-02-27T21:39:13.298075Z"
        },
        "id": "Q4KUx39d2a2a"
      },
      "outputs": [],
      "execution_count": null
    },
    {
      "cell_type": "code",
      "source": [
        "print(\"Accuracy:\", accuracy_score(y_test, y_pred))\n",
        "print(\"Classification Report:\\n\", classification_report(y_test, y_pred))\n",
        "print(\"Confusion Matrix:\\n\", confusion_matrix(y_test, y_pred))"
      ],
      "metadata": {
        "trusted": true,
        "execution": {
          "iopub.status.busy": "2025-02-27T21:39:15.661706Z",
          "iopub.execute_input": "2025-02-27T21:39:15.662191Z",
          "iopub.status.idle": "2025-02-27T21:39:15.693173Z",
          "shell.execute_reply.started": "2025-02-27T21:39:15.662156Z",
          "shell.execute_reply": "2025-02-27T21:39:15.692142Z"
        },
        "id": "OVw65pBS2a2a",
        "outputId": "68b0f384-bcd4-435d-b566-27f60123e3d9"
      },
      "outputs": [
        {
          "name": "stdout",
          "text": "Accuracy: 0.9285555555555556\nClassification Report:\n               precision    recall  f1-score   support\n\n           0       0.94      0.97      0.95      6990\n           1       0.90      0.77      0.83      2010\n\n    accuracy                           0.93      9000\n   macro avg       0.92      0.87      0.89      9000\nweighted avg       0.93      0.93      0.93      9000\n\nConfusion Matrix:\n [[6811  179]\n [ 464 1546]]\n",
          "output_type": "stream"
        }
      ],
      "execution_count": null
    },
    {
      "cell_type": "code",
      "source": [
        "from sklearn.metrics import confusion_matrix\n",
        "import seaborn as sns\n",
        "import matplotlib.pyplot as plt\n",
        "conf = confusion_matrix(y_test, y_pred)\n",
        "print(conf)"
      ],
      "metadata": {
        "trusted": true,
        "execution": {
          "iopub.status.busy": "2025-02-27T21:39:19.038264Z",
          "iopub.execute_input": "2025-02-27T21:39:19.038562Z",
          "iopub.status.idle": "2025-02-27T21:39:19.046772Z",
          "shell.execute_reply.started": "2025-02-27T21:39:19.038537Z",
          "shell.execute_reply": "2025-02-27T21:39:19.045428Z"
        },
        "id": "NpIY-7m_2a2a",
        "outputId": "1e1a8fbb-3aae-4295-abe6-ff9ba0fbba23"
      },
      "outputs": [
        {
          "name": "stdout",
          "text": "[[6811  179]\n [ 464 1546]]\n",
          "output_type": "stream"
        }
      ],
      "execution_count": null
    },
    {
      "cell_type": "code",
      "source": [
        "sns.heatmap(conf, annot=True, fmt='d', cmap='Blues', xticklabels=['Not Anaemic', 'Anaemic'], yticklabels=['Not Anaemic', 'Anaemic'])\n",
        "plt.xlabel('Predicted')\n",
        "plt.ylabel('Actual')\n",
        "plt.title('Confusion Matrix')\n",
        "plt.show()"
      ],
      "metadata": {
        "trusted": true,
        "execution": {
          "iopub.status.busy": "2025-02-27T21:39:21.064058Z",
          "iopub.execute_input": "2025-02-27T21:39:21.064334Z",
          "iopub.status.idle": "2025-02-27T21:39:21.229568Z",
          "shell.execute_reply.started": "2025-02-27T21:39:21.064312Z",
          "shell.execute_reply": "2025-02-27T21:39:21.228178Z"
        },
        "id": "911fCASG2a2b",
        "outputId": "419c6e3c-421b-40ec-9d53-b7908db7c57d"
      },
      "outputs": [
        {
          "output_type": "display_data",
          "data": {
            "text/plain": "<Figure size 640x480 with 2 Axes>",
            "image/png": "[encoded data removed]"
          },
          "metadata": {}
        }
      ],
      "execution_count": null
    },
    {
      "cell_type": "code",
      "source": [],
      "metadata": {
        "trusted": true,
        "id": "PBFDJYoT2a2b"
      },
      "outputs": [],
      "execution_count": null
    }
  ]
}